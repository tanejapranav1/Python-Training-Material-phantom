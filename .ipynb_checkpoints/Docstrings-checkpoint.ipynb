{
 "cells": [
  {
   "cell_type": "code",
   "execution_count": 2,
   "metadata": {},
   "outputs": [
    {
     "name": "stdout",
     "output_type": "stream",
     "text": [
      "Help on built-in function append:\n",
      "\n",
      "append(object, /) method of builtins.list instance\n",
      "    Append object to the end of the list.\n",
      "\n"
     ]
    }
   ],
   "source": [
    "stuff = []\n",
    "help(stuff.append)"
   ]
  },
  {
   "cell_type": "code",
   "execution_count": 6,
   "metadata": {},
   "outputs": [
    {
     "name": "stdout",
     "output_type": "stream",
     "text": [
      "Help on built-in function print in module builtins:\n",
      "\n",
      "print(...)\n",
      "    print(value, ..., sep=' ', end='\\n', file=sys.stdout, flush=False)\n",
      "    \n",
      "    Prints the values to a stream, or to sys.stdout by default.\n",
      "    Optional keyword arguments:\n",
      "    file:  a file-like object (stream); defaults to the current sys.stdout.\n",
      "    sep:   string inserted between values, default a space.\n",
      "    end:   string appended after the last value, default a newline.\n",
      "    flush: whether to forcibly flush the stream.\n",
      "\n"
     ]
    }
   ],
   "source": [
    "help(print) # or in some cases ?python"
   ]
  },
  {
   "cell_type": "markdown",
   "metadata": {},
   "source": [
    "# Docstrings"
   ]
  },
  {
   "cell_type": "markdown",
   "metadata": {},
   "source": [
    "Let's see what happens if we define a function and call `help()` on that."
   ]
  },
  {
   "cell_type": "code",
   "execution_count": 7,
   "metadata": {},
   "outputs": [
    {
     "name": "stdout",
     "output_type": "stream",
     "text": [
      "Help on function func in module __main__:\n",
      "\n",
      "func(p1, p2=2)\n",
      "\n"
     ]
    }
   ],
   "source": [
    "def func(p1, p2=2):\n",
    "    return p1 * p2\n",
    "\n",
    "help(func)"
   ]
  },
  {
   "cell_type": "markdown",
   "metadata": {},
   "source": [
    "We have no idea about what it does based on this. All we know is that it takes a thing argument.\n",
    "\n",
    "This is when documentation strings or docstrings come in. All we need to do is to add a string to the beginning of our function and it will show up in `help(the_function)`. Like this:"
   ]
  },
  {
   "cell_type": "code",
   "execution_count": 21,
   "metadata": {},
   "outputs": [
    {
     "name": "stdout",
     "output_type": "stream",
     "text": [
      "Help on function func in module __main__:\n",
      "\n",
      "func(p1, p2=2)\n",
      "    This function returns the product of the numbers given as input.\n",
      "    If only one argument is given to the function,\n",
      "    it returns twice of that input.\n",
      "    \n",
      "    Input arguments:\n",
      "    p1: input paramater\n",
      "    p2: Default Input parameter (value=2)\n",
      "\n"
     ]
    }
   ],
   "source": [
    "def func(p1, p2=2):\n",
    "    \"This function returns the product of the numbers given as input.\\nIf only one argument is given to the function,\\nit returns twice of that input.\\n\\nInput arguments:\\np1: input paramater\\np2: Default Input parameter (value=2)\"\n",
    "    return p1 * p2\n",
    "\n",
    "help(func)"
   ]
  },
  {
   "cell_type": "markdown",
   "metadata": {},
   "source": [
    "#### Accessing Docstrings: \n",
    "The docstrings can be accessed using the `__doc__` method of the object or using the help function."
   ]
  },
  {
   "cell_type": "code",
   "execution_count": 19,
   "metadata": {},
   "outputs": [
    {
     "data": {
      "text/plain": [
       "'This function returns the product of the numbers given as input.\\nIf only one argument is given to the function,\\nit returns twice of that input.'"
      ]
     },
     "execution_count": 19,
     "metadata": {},
     "output_type": "execute_result"
    }
   ],
   "source": [
    "func.__doc__"
   ]
  },
  {
   "cell_type": "markdown",
   "metadata": {},
   "source": [
    "Note that docstrings are not comments. If you add a # comment to the beginning of the function it won't show up in `help()`."
   ]
  },
  {
   "cell_type": "code",
   "execution_count": 11,
   "metadata": {},
   "outputs": [
    {
     "name": "stdout",
     "output_type": "stream",
     "text": [
      "Help on function func in module __main__:\n",
      "\n",
      "func(p1, p2=2)\n",
      "\n"
     ]
    }
   ],
   "source": [
    "def func(p1, p2=2):\n",
    "    # This function returns the product of the numbers given as input.\\nIf only one argument is given to the function,\\nit returns twice of that input.\n",
    "    return p1 * p2\n",
    "\n",
    "help(func)"
   ]
  },
  {
   "cell_type": "markdown",
   "metadata": {},
   "source": [
    "# Multi-line strings/ Multi-line comments"
   ]
  },
  {
   "cell_type": "markdown",
   "metadata": {},
   "source": [
    "We have a better way to represent docstrings in multiple lines without using the escape sequence `\\n`. We will leverage the triple-quoted string of Python..."
   ]
  },
  {
   "cell_type": "code",
   "execution_count": 13,
   "metadata": {},
   "outputs": [
    {
     "data": {
      "text/plain": [
       "'bla bla bla\\n\\nbla bla bla\\nbla bla bla'"
      ]
     },
     "execution_count": 13,
     "metadata": {},
     "output_type": "execute_result"
    }
   ],
   "source": [
    "\"\"\"bla bla bla\n",
    "\n",
    "bla bla bla\n",
    "bla bla bla\"\"\""
   ]
  },
  {
   "cell_type": "markdown",
   "metadata": {},
   "source": [
    "It's recommended to always use `\"\"\"strings like this\"\"\"` for docstrings, even if the docstring is only one line long. This way it's easy to add more stuff to it later."
   ]
  },
  {
   "cell_type": "code",
   "execution_count": 14,
   "metadata": {},
   "outputs": [
    {
     "name": "stdout",
     "output_type": "stream",
     "text": [
      "Help on function func in module __main__:\n",
      "\n",
      "func()\n",
      "    This is an empty function\n",
      "    \n",
      "    It does NOTHING!!\n",
      "\n"
     ]
    }
   ],
   "source": [
    "def func():\n",
    "    \"\"\"This is an empty function\n",
    "    \n",
    "    It does NOTHING!!\"\"\"\n",
    "help(func)"
   ]
  },
  {
   "cell_type": "markdown",
   "metadata": {},
   "source": [
    "# Documenting other stuff"
   ]
  },
  {
   "cell_type": "code",
   "execution_count": 16,
   "metadata": {},
   "outputs": [
    {
     "name": "stdout",
     "output_type": "stream",
     "text": [
      "Help on module test:\n",
      "\n",
      "NAME\n",
      "    test - A test module.\n",
      "\n",
      "DESCRIPTION\n",
      "    It contains a class and a function.\n",
      "\n",
      "CLASSES\n",
      "    builtins.object\n",
      "        Thing\n",
      "    \n",
      "    class Thing(builtins.object)\n",
      "     |  This is a test class.\n",
      "     |  \n",
      "     |  Methods defined here:\n",
      "     |  \n",
      "     |  thingy(self)\n",
      "     |      This is a test method.\n",
      "     |  \n",
      "     |  ----------------------------------------------------------------------\n",
      "     |  Data descriptors defined here:\n",
      "     |  \n",
      "     |  __dict__\n",
      "     |      dictionary for instance variables (if defined)\n",
      "     |  \n",
      "     |  __weakref__\n",
      "     |      list of weak references to the object (if defined)\n",
      "\n",
      "FUNCTIONS\n",
      "    do_hello()\n",
      "        This is a test function.\n",
      "\n",
      "FILE\n",
      "    c:\\users\\prataneja\\documents\\python training material - phantom\\test.py\n",
      "\n",
      "\n"
     ]
    }
   ],
   "source": [
    "import test\n",
    "help(test)"
   ]
  },
  {
   "cell_type": "markdown",
   "metadata": {},
   "source": [
    "We just added docstrings to our code and Python made this thing out of it.\n",
    "\n",
    "You might be wondering what \\__weakref__ is. You don't need to care about it, and I think it would be better if `help()` would hide it."
   ]
  },
  {
   "cell_type": "markdown",
   "metadata": {},
   "source": [
    "# When should we use docstrings?"
   ]
  },
  {
   "cell_type": "markdown",
   "metadata": {},
   "source": [
    "Always use docstrings when writing code that other people will import. The `help()` function is awesome, so it's important to make sure it's actually helpful.\n",
    "\n",
    "If your code is not meant to be imported, docstrings are usually a good idea anyway. Other people reading your code will understand what it's doing without having to read through all of the code."
   ]
  },
  {
   "cell_type": "markdown",
   "metadata": {},
   "source": [
    "# Summary\n",
    "\n",
    "- `help()` gives us a description of any function, provided we have added docstrings to it. (All built-in functions/ pip libraries have docstrings attached to their functions.\n",
    "- A `\"\"\"triple-quoted string\"\"\"` string in the beginning of a function,\n",
    "  class or file is a docstring. It shows up in `help()`.\n",
    "- Docstrings are not comments.\n",
    "- Usually it's a good idea to add docstrings everywhere"
   ]
  },
  {
   "cell_type": "code",
   "execution_count": null,
   "metadata": {},
   "outputs": [],
   "source": []
  }
 ],
 "metadata": {
  "kernelspec": {
   "display_name": "Python 3.8.1 64-bit",
   "language": "python",
   "name": "python38164bitdcfbac47a61e46969c45efd4ea49c494"
  },
  "language_info": {
   "codemirror_mode": {
    "name": "ipython",
    "version": 3
   },
   "file_extension": ".py",
   "mimetype": "text/x-python",
   "name": "python",
   "nbconvert_exporter": "python",
   "pygments_lexer": "ipython3",
   "version": "3.8.1"
  }
 },
 "nbformat": 4,
 "nbformat_minor": 4
}
